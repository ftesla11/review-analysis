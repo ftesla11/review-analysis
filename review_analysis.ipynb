{
 "cells": [
  {
   "cell_type": "code",
   "execution_count": 2,
   "metadata": {
    "tags": []
   },
   "outputs": [],
   "source": [
    "import numpy as np\n",
    "import pandas as pd\n",
    "import re\n",
    "import nltk\n",
    "import random\n",
    "from nltk.metrics import edit_distance\n",
    "import matplotlib.pyplot as plt\n",
    "from sklearn.feature_extraction.text import TfidfVectorizer\n",
    "from sklearn.model_selection import train_test_split\n",
    "from sklearn.model_selection import GridSearchCV\n",
    "from sklearn.linear_model import LogisticRegression\n",
    "from sklearn.svm import LinearSVC\n",
    "from sklearn.pipeline import Pipeline\n",
    "import pickle\n",
    "\n",
    "from sklearn.metrics import accuracy_score, precision_score, recall_score, f1_score"
   ]
  },
  {
   "cell_type": "code",
   "execution_count": 3,
   "metadata": {
    "scrolled": true
   },
   "outputs": [
    {
     "output_type": "execute_result",
     "data": {
      "text/plain": "                                              review category_final  \\\n0  The notification badges are showing up on my i...    requirement   \n1  Why do they make changes we don't need? Now th...          other   \n2  Story is useless n annoying to user. \\nCan't s...          other   \n3  This app is always having an update for someth...    requirement   \n4  Just spent an hour trying to upload photos and...    requirement   \n\n  sentiment_final       req_final  \n0         neutral      functional  \n1   very negative             NaN  \n2        negative             NaN  \n3        negative      functional  \n4        negative  non-functional  ",
      "text/html": "<div>\n<style scoped>\n    .dataframe tbody tr th:only-of-type {\n        vertical-align: middle;\n    }\n\n    .dataframe tbody tr th {\n        vertical-align: top;\n    }\n\n    .dataframe thead th {\n        text-align: right;\n    }\n</style>\n<table border=\"1\" class=\"dataframe\">\n  <thead>\n    <tr style=\"text-align: right;\">\n      <th></th>\n      <th>review</th>\n      <th>category_final</th>\n      <th>sentiment_final</th>\n      <th>req_final</th>\n    </tr>\n  </thead>\n  <tbody>\n    <tr>\n      <th>0</th>\n      <td>The notification badges are showing up on my i...</td>\n      <td>requirement</td>\n      <td>neutral</td>\n      <td>functional</td>\n    </tr>\n    <tr>\n      <th>1</th>\n      <td>Why do they make changes we don't need? Now th...</td>\n      <td>other</td>\n      <td>very negative</td>\n      <td>NaN</td>\n    </tr>\n    <tr>\n      <th>2</th>\n      <td>Story is useless n annoying to user. \\nCan't s...</td>\n      <td>other</td>\n      <td>negative</td>\n      <td>NaN</td>\n    </tr>\n    <tr>\n      <th>3</th>\n      <td>This app is always having an update for someth...</td>\n      <td>requirement</td>\n      <td>negative</td>\n      <td>functional</td>\n    </tr>\n    <tr>\n      <th>4</th>\n      <td>Just spent an hour trying to upload photos and...</td>\n      <td>requirement</td>\n      <td>negative</td>\n      <td>non-functional</td>\n    </tr>\n  </tbody>\n</table>\n</div>"
     },
     "metadata": {},
     "execution_count": 3
    }
   ],
   "source": [
    "# Import the dataset\n",
    "df = pd.read_csv('Dataset.csv', encoding = 'latin-1')\n",
    "df = df[['review', 'category_final', 'sentiment_final', 'req_final']]\n",
    "df.head()"
   ]
  },
  {
   "cell_type": "code",
   "execution_count": 4,
   "metadata": {},
   "outputs": [
    {
     "output_type": "execute_result",
     "data": {
      "text/plain": "(3000, 4)"
     },
     "metadata": {},
     "execution_count": 4
    }
   ],
   "source": [
    "df.shape"
   ]
  },
  {
   "cell_type": "code",
   "execution_count": 5,
   "metadata": {},
   "outputs": [],
   "source": [
    "# Lower case the category, sentiment, req. type\n",
    "df['category_final'] = df['category_final'].str.lower()\n",
    "df['sentiment_final'] = df['sentiment_final'].str.lower()\n",
    "df['req_final'] = df['req_final'].str.lower()"
   ]
  },
  {
   "cell_type": "code",
   "execution_count": 6,
   "metadata": {},
   "outputs": [
    {
     "output_type": "execute_result",
     "data": {
      "text/plain": "                                              review  category_final  \\\n0  The notification badges are showing up on my i...               1   \n1  Why do they make changes we don't need? Now th...               3   \n2  Story is useless n annoying to user. \\nCan't s...               3   \n3  This app is always having an update for someth...               1   \n4  Just spent an hour trying to upload photos and...               1   \n\n   sentiment_final  req_final  \n0              1.0        1.0  \n1              0.0        0.0  \n2              0.0        0.0  \n3              0.0        1.0  \n4              0.0        2.0  ",
      "text/html": "<div>\n<style scoped>\n    .dataframe tbody tr th:only-of-type {\n        vertical-align: middle;\n    }\n\n    .dataframe tbody tr th {\n        vertical-align: top;\n    }\n\n    .dataframe thead th {\n        text-align: right;\n    }\n</style>\n<table border=\"1\" class=\"dataframe\">\n  <thead>\n    <tr style=\"text-align: right;\">\n      <th></th>\n      <th>review</th>\n      <th>category_final</th>\n      <th>sentiment_final</th>\n      <th>req_final</th>\n    </tr>\n  </thead>\n  <tbody>\n    <tr>\n      <th>0</th>\n      <td>The notification badges are showing up on my i...</td>\n      <td>1</td>\n      <td>1.0</td>\n      <td>1.0</td>\n    </tr>\n    <tr>\n      <th>1</th>\n      <td>Why do they make changes we don't need? Now th...</td>\n      <td>3</td>\n      <td>0.0</td>\n      <td>0.0</td>\n    </tr>\n    <tr>\n      <th>2</th>\n      <td>Story is useless n annoying to user. \\nCan't s...</td>\n      <td>3</td>\n      <td>0.0</td>\n      <td>0.0</td>\n    </tr>\n    <tr>\n      <th>3</th>\n      <td>This app is always having an update for someth...</td>\n      <td>1</td>\n      <td>0.0</td>\n      <td>1.0</td>\n    </tr>\n    <tr>\n      <th>4</th>\n      <td>Just spent an hour trying to upload photos and...</td>\n      <td>1</td>\n      <td>0.0</td>\n      <td>2.0</td>\n    </tr>\n  </tbody>\n</table>\n</div>"
     },
     "metadata": {},
     "execution_count": 6
    }
   ],
   "source": [
    "# Replace categories with numerical values\n",
    "df['category_final'].replace(['noise', 'requirement', 'bug report', 'other'], [0, 1, 2, 3], inplace=True)\n",
    "df['sentiment_final'].replace(['very negative', 'negative', 'neutral', 'positive', 'very positive', 'postive','positve'], [0, 0, 1, 2, 2, 2, 2], inplace=True)\n",
    "df['req_final'].replace(['NaN', 'functional', 'non-functional'], [0, 1, 2], inplace=True)\n",
    "    \n",
    "# Replace empty req type with 0s (if it's not requirement, it has no req type)\n",
    "df['req_final'].replace(np.nan, 0, inplace=True)\n",
    "df.head()"
   ]
  },
  {
   "cell_type": "code",
   "execution_count": 7,
   "metadata": {},
   "outputs": [
    {
     "output_type": "execute_result",
     "data": {
      "text/plain": "(3000, 4)"
     },
     "metadata": {},
     "execution_count": 7
    }
   ],
   "source": [
    "df.shape"
   ]
  },
  {
   "cell_type": "code",
   "execution_count": 8,
   "metadata": {},
   "outputs": [
    {
     "output_type": "execute_result",
     "data": {
      "text/plain": "(2796, 4)"
     },
     "metadata": {},
     "execution_count": 8
    }
   ],
   "source": [
    "df = df[df['sentiment_final'].notna()]\n",
    "df.reset_index(inplace=True, drop=True)\n",
    "df.shape"
   ]
  },
  {
   "cell_type": "code",
   "execution_count": 9,
   "metadata": {},
   "outputs": [
    {
     "output_type": "execute_result",
     "data": {
      "text/plain": "                                              review  category_final  \\\n0  The notification badges are showing up on my i...               1   \n1  Why do they make changes we don't need? Now th...               3   \n2  Story is useless n annoying to user. \\nCan't s...               3   \n3  This app is always having an update for someth...               1   \n4  Just spent an hour trying to upload photos and...               1   \n\n   sentiment_final  req_final  \n0              1.0        1.0  \n1              0.0        0.0  \n2              0.0        0.0  \n3              0.0        1.0  \n4              0.0        2.0  ",
      "text/html": "<div>\n<style scoped>\n    .dataframe tbody tr th:only-of-type {\n        vertical-align: middle;\n    }\n\n    .dataframe tbody tr th {\n        vertical-align: top;\n    }\n\n    .dataframe thead th {\n        text-align: right;\n    }\n</style>\n<table border=\"1\" class=\"dataframe\">\n  <thead>\n    <tr style=\"text-align: right;\">\n      <th></th>\n      <th>review</th>\n      <th>category_final</th>\n      <th>sentiment_final</th>\n      <th>req_final</th>\n    </tr>\n  </thead>\n  <tbody>\n    <tr>\n      <th>0</th>\n      <td>The notification badges are showing up on my i...</td>\n      <td>1</td>\n      <td>1.0</td>\n      <td>1.0</td>\n    </tr>\n    <tr>\n      <th>1</th>\n      <td>Why do they make changes we don't need? Now th...</td>\n      <td>3</td>\n      <td>0.0</td>\n      <td>0.0</td>\n    </tr>\n    <tr>\n      <th>2</th>\n      <td>Story is useless n annoying to user. \\nCan't s...</td>\n      <td>3</td>\n      <td>0.0</td>\n      <td>0.0</td>\n    </tr>\n    <tr>\n      <th>3</th>\n      <td>This app is always having an update for someth...</td>\n      <td>1</td>\n      <td>0.0</td>\n      <td>1.0</td>\n    </tr>\n    <tr>\n      <th>4</th>\n      <td>Just spent an hour trying to upload photos and...</td>\n      <td>1</td>\n      <td>0.0</td>\n      <td>2.0</td>\n    </tr>\n  </tbody>\n</table>\n</div>"
     },
     "metadata": {},
     "execution_count": 9
    }
   ],
   "source": [
    "df.head()"
   ]
  },
  {
   "cell_type": "code",
   "execution_count": 10,
   "metadata": {
    "tags": []
   },
   "outputs": [
    {
     "output_type": "execute_result",
     "data": {
      "text/plain": "'the notification badges are showing up on my iphone   plus but when i open app there not there  this has happened since last update   also quit interrupting videos with stupid ads  annoying '"
     },
     "metadata": {},
     "execution_count": 10
    }
   ],
   "source": [
    "# sw now stores all stopwords from english dictionary\n",
    "review = df['review'].str.lower()\n",
    "category = df['category_final']\n",
    "sentiment = df['sentiment_final']\n",
    "requirement = df['req_final']\n",
    "\n",
    "formatted_review = []\n",
    "\n",
    "# replace punctuations with space\n",
    "for i in range(0, len(review)):\n",
    "    result = re.sub('[^a-z]', ' ', str(review[i])) \n",
    "    formatted_review.append(result)\n",
    "review = formatted_review\n",
    "review[0]"
   ]
  },
  {
   "cell_type": "code",
   "execution_count": 11,
   "metadata": {},
   "outputs": [],
   "source": [
    "review_train, review_test, category_train, category_test, sentiment_train, sentiment_test, req_train, req_test = train_test_split(review, category, sentiment, requirement, train_size=0.8, test_size=0.2, random_state=9, shuffle=True)"
   ]
  },
  {
   "cell_type": "code",
   "execution_count": 12,
   "metadata": {},
   "outputs": [],
   "source": [
    "# Fits a model and returns a trained model and its accuracy on test set\n",
    "def model_evaluation(model, x_train, x_test, y_train, y_test):\n",
    "    model.fit(x_train, y_train)\n",
    "    predictions = model.predict(x_test)\n",
    "    accuracy = accuracy_score(y_test, predictions)\n",
    "    print('Accuracy score = {}'.format(accuracy))\n",
    "    return model, accuracy"
   ]
  },
  {
   "cell_type": "code",
   "execution_count": 13,
   "metadata": {},
   "outputs": [],
   "source": [
    "# Returns the best parameters for a classifier and its corresponding vectorizer\n",
    "def get_best_params(param_grid, vectorizer, classifier, x_train, y_train):\n",
    "    pipeline = Pipeline([('vect' , vectorizer), ('clf', classifier)])\n",
    "    gs = GridSearchCV(pipeline, param_grid, scoring='accuracy', cv=5, n_jobs=-1)\n",
    "    gs.fit(x_train, y_train)\n",
    "    best_parameters = gs.best_params_\n",
    "    return best_parameters"
   ]
  },
  {
   "cell_type": "code",
   "execution_count": 14,
   "metadata": {},
   "outputs": [],
   "source": [
    "# Returns the train/test sets in vectorized format\n",
    "def to_vector(vectorizer, review_train, review_test):\n",
    "    x_train = vectorizer.fit_transform(review_train).toarray()\n",
    "    print('Number of features = {}'.format(len(vectorizer.vocabulary_)))\n",
    "    x_test = vectorizer.transform(review_test).toarray()\n",
    "    return x_train, x_test"
   ]
  },
  {
   "cell_type": "code",
   "execution_count": 15,
   "metadata": {},
   "outputs": [],
   "source": [
    "# Compare two models and return the best one with the corresponding vectorizer\n",
    "def get_best_model(model_a, vect_a, accuracy_a, model_b, vect_b, accuracy_b):\n",
    "    vectorizer =vect_a if accuracy_a > accuracy_b else vect_b\n",
    "    model = model_a if accuracy_a > accuracy_b else model_b\n",
    "    return vectorizer, model"
   ]
  },
  {
   "cell_type": "code",
   "execution_count": 16,
   "metadata": {},
   "outputs": [],
   "source": [
    "# Parameters for the vectorizer and LR classifier\n",
    "param_grid = [\n",
    "    {'vect__ngram_range': [(1,1), (1,2), (1,3), (1,4), (2,2), (2,3), (2,4)],\n",
    "    'vect__min_df': [0.005, 0.0005, 0.00005],\n",
    "    'clf__penalty': ['l1', 'l2', 'elasticnet', 'none'],\n",
    "    'clf__solver': ['newton-cg', 'lbfgs', 'liblinear', 'sag', 'saga']}\n",
    "]\n",
    "\n",
    "# Parameters for the vectorizer and SVC classifier\n",
    "param_grid_svc = [\n",
    "    {'vect__ngram_range': [(1,1), (1,2), (1,3), (1,4), (2,2), (2,3), (2,4)],\n",
    "    'vect__min_df': [0.005, 0.0005, 0.00005],\n",
    "    'clf__tol': [0.001, 0.0001, 0.00001, 0.000001]}\n",
    "]\n"
   ]
  },
  {
   "cell_type": "code",
   "execution_count": 17,
   "metadata": {
    "tags": []
   },
   "outputs": [
    {
     "output_type": "execute_result",
     "data": {
      "text/plain": "{'clf__penalty': 'l2',\n 'clf__solver': 'newton-cg',\n 'vect__min_df': 0.0005,\n 'vect__ngram_range': (1, 2)}"
     },
     "metadata": {},
     "execution_count": 17
    }
   ],
   "source": [
    "sentiment_test=sentiment_test.astype('int')\n",
    "sentiment_train=sentiment_train.astype('int')\n",
    "\n",
    "# Best parameters for LR and vectorizer for predicting SENTIMENT\n",
    "best_lr_sent = get_best_params(param_grid, TfidfVectorizer(), LogisticRegression(), review_train, sentiment_train)\n",
    "best_lr_sent"
   ]
  },
  {
   "cell_type": "code",
   "execution_count": 18,
   "metadata": {
    "tags": []
   },
   "outputs": [
    {
     "output_type": "stream",
     "name": "stdout",
     "text": "Number of features = 11466\nAccuracy score = 0.6910714285714286\n"
    }
   ],
   "source": [
    "lr = LogisticRegression(penalty=best_lr_sent['clf__penalty'], solver=best_lr_sent['clf__solver'])\n",
    "vect_lr_sent = TfidfVectorizer(ngram_range=best_lr_sent['vect__ngram_range'], min_df=best_lr_sent['vect__min_df'])\n",
    "\n",
    "x_train, x_test = to_vector(vect_lr_sent, review_train, review_test)\n",
    "model_lr_sent, lr_sent_accuracy = model_evaluation(lr, x_train, x_test, sentiment_train, sentiment_test)"
   ]
  },
  {
   "cell_type": "code",
   "execution_count": 19,
   "metadata": {
    "tags": []
   },
   "outputs": [
    {
     "output_type": "execute_result",
     "data": {
      "text/plain": "{'clf__tol': 0.001, 'vect__min_df': 0.0005, 'vect__ngram_range': (1, 3)}"
     },
     "metadata": {},
     "execution_count": 19
    }
   ],
   "source": [
    "# Best parameters for SVC and vectorizer for predicting SENTIMENT\n",
    "best_svc_sent = get_best_params(param_grid_svc, TfidfVectorizer(), LinearSVC(), review_train, sentiment_train)\n",
    "best_svc_sent"
   ]
  },
  {
   "cell_type": "code",
   "execution_count": 20,
   "metadata": {
    "tags": []
   },
   "outputs": [
    {
     "output_type": "stream",
     "name": "stdout",
     "text": "Number of features = 16198\nAccuracy score = 0.6732142857142858\n"
    }
   ],
   "source": [
    "svc = LinearSVC(tol=best_svc_sent['clf__tol'])\n",
    "vect_svc_sent = TfidfVectorizer(ngram_range=best_svc_sent['vect__ngram_range'], min_df=best_svc_sent['vect__min_df'])\n",
    "\n",
    "x_train, x_test = to_vector(vect_svc_sent, review_train, review_test)\n",
    "model_svc_sent, svc_sent_accuracy = model_evaluation(svc, x_train, x_test, sentiment_train, sentiment_test)"
   ]
  },
  {
   "cell_type": "code",
   "execution_count": 21,
   "metadata": {},
   "outputs": [],
   "source": [
    "final_vect, final_model = get_best_model(model_lr_sent, vect_lr_sent, lr_sent_accuracy, model_svc_sent, vect_svc_sent, svc_sent_accuracy)\n",
    "pickle.dump(final_vect, open('vect_sent.pickle', 'wb'))\n",
    "pickle.dump(final_model, open('sentiment_classifier.pickle', 'wb'))"
   ]
  },
  {
   "cell_type": "code",
   "execution_count": 22,
   "metadata": {},
   "outputs": [
    {
     "output_type": "execute_result",
     "data": {
      "text/plain": "{'clf__penalty': 'none',\n 'clf__solver': 'saga',\n 'vect__min_df': 0.0005,\n 'vect__ngram_range': (1, 2)}"
     },
     "metadata": {},
     "execution_count": 22
    }
   ],
   "source": [
    "# Best parameters for LR and vectorizer for predicting CATEGORY\n",
    "best_lr_cat = get_best_params(param_grid, TfidfVectorizer(), LogisticRegression(), review_train, category_train)\n",
    "best_lr_cat"
   ]
  },
  {
   "cell_type": "code",
   "execution_count": 23,
   "metadata": {
    "tags": []
   },
   "outputs": [
    {
     "output_type": "stream",
     "name": "stdout",
     "text": "Number of features = 11466\nAccuracy score = 0.7428571428571429\n"
    }
   ],
   "source": [
    "lr = LogisticRegression(penalty=best_lr_cat['clf__penalty'], solver=best_lr_cat['clf__solver'])\n",
    "vect_lr_cat = TfidfVectorizer(ngram_range=best_lr_cat['vect__ngram_range'], min_df=best_lr_cat['vect__min_df'])\n",
    "\n",
    "x_train, x_test = to_vector(vect_lr_cat, review_train, review_test)\n",
    "model_lr_cat, lr_cat_accuracy = model_evaluation(lr, x_train, x_test, category_train, category_test)\n"
   ]
  },
  {
   "cell_type": "code",
   "execution_count": 24,
   "metadata": {},
   "outputs": [
    {
     "output_type": "execute_result",
     "data": {
      "text/plain": "{'clf__tol': 0.001, 'vect__min_df': 0.0005, 'vect__ngram_range': (1, 2)}"
     },
     "metadata": {},
     "execution_count": 24
    }
   ],
   "source": [
    "# Best parameters for SVC and vectorizer for predicting CATEGORY\n",
    "best_svc_cat = get_best_params(param_grid_svc, TfidfVectorizer(), LinearSVC(), review_train, category_train)\n",
    "best_svc_cat"
   ]
  },
  {
   "cell_type": "code",
   "execution_count": 25,
   "metadata": {
    "tags": []
   },
   "outputs": [
    {
     "output_type": "stream",
     "name": "stdout",
     "text": "Number of features = 11466\nAccuracy score = 0.7482142857142857\n"
    }
   ],
   "source": [
    "svc = LinearSVC(tol=best_svc_cat['clf__tol'])\n",
    "vect_svc_cat = TfidfVectorizer(ngram_range=best_svc_cat['vect__ngram_range'], min_df=best_svc_cat['vect__min_df'])\n",
    "\n",
    "x_train, x_test = to_vector(vect_svc_cat, review_train, review_test)\n",
    "model_svc_cat, svc_cat_accuracy = model_evaluation(svc, x_train, x_test, category_train, category_test)"
   ]
  },
  {
   "cell_type": "code",
   "execution_count": 26,
   "metadata": {},
   "outputs": [],
   "source": [
    "final_vect, final_model = get_best_model(model_lr_cat, vect_lr_cat, lr_cat_accuracy, model_svc_cat, vect_svc_cat, svc_cat_accuracy)\n",
    "pickle.dump(final_vect, open('vect_cat.pickle', 'wb'))\n",
    "pickle.dump(final_model, open('category_classifier.pickle', 'wb'))"
   ]
  },
  {
   "cell_type": "code",
   "execution_count": null,
   "metadata": {},
   "outputs": [],
   "source": []
  }
 ],
 "metadata": {
  "kernelspec": {
   "display_name": "Python 3",
   "language": "python",
   "name": "python3"
  },
  "language_info": {
   "codemirror_mode": {
    "name": "ipython",
    "version": 3
   },
   "file_extension": ".py",
   "mimetype": "text/x-python",
   "name": "python",
   "nbconvert_exporter": "python",
   "pygments_lexer": "ipython3",
   "version": "3.8.5-final"
  }
 },
 "nbformat": 4,
 "nbformat_minor": 2
}